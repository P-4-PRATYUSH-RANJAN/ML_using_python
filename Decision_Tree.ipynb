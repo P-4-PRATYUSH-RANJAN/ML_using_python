{
  "nbformat": 4,
  "nbformat_minor": 0,
  "metadata": {
    "colab": {
      "name": "Decision Tree.ipynb",
      "provenance": [],
      "collapsed_sections": [],
      "authorship_tag": "ABX9TyPZqT1xp/sgEO41L2PFGwh+",
      "include_colab_link": true
    },
    "kernelspec": {
      "name": "python3",
      "display_name": "Python 3"
    },
    "language_info": {
      "name": "python"
    }
  },
  "cells": [
    {
      "cell_type": "markdown",
      "metadata": {
        "id": "view-in-github",
        "colab_type": "text"
      },
      "source": [
        "<a href=\"https://colab.research.google.com/github/P-4-PRATYUSH-RANJAN/ML_using_python/blob/main/Decision_Tree.ipynb\" target=\"_parent\"><img src=\"https://colab.research.google.com/assets/colab-badge.svg\" alt=\"Open In Colab\"/></a>"
      ]
    },
    {
      "cell_type": "markdown",
      "source": [
        "Mounting the drive"
      ],
      "metadata": {
        "id": "27lsUrtEEIPt"
      }
    },
    {
      "cell_type": "code",
      "source": [
        "from google.colab import drive\n",
        "drive.mount('/content/drive')"
      ],
      "metadata": {
        "colab": {
          "base_uri": "https://localhost:8080/"
        },
        "id": "hMHAy5paEG1m",
        "outputId": "326f09d3-ffca-49a9-db6c-2baa70518a17"
      },
      "execution_count": null,
      "outputs": [
        {
          "output_type": "stream",
          "name": "stdout",
          "text": [
            "Mounted at /content/drive\n"
          ]
        }
      ]
    },
    {
      "cell_type": "code",
      "execution_count": null,
      "metadata": {
        "id": "3cjizBdkPBXz"
      },
      "outputs": [],
      "source": [
        "import pandas as pd\n",
        "import numpy as np\n",
        "import matplotlib.pyplot as plt"
      ]
    },
    {
      "cell_type": "code",
      "source": [
        "df=pd.read_csv('/content/drive/MyDrive/ML_Dataset /decision Tree dataset/Copy of DT_DataSet_v1.0.csv')"
      ],
      "metadata": {
        "id": "gyP9QDbsGfU7"
      },
      "execution_count": null,
      "outputs": []
    },
    {
      "cell_type": "code",
      "source": [
        "df.info"
      ],
      "metadata": {
        "colab": {
          "base_uri": "https://localhost:8080/"
        },
        "id": "0ED94tS8GptT",
        "outputId": "f021acb3-59dd-426b-bf30-b7ab3f31e0b8"
      },
      "execution_count": null,
      "outputs": [
        {
          "output_type": "execute_result",
          "data": {
            "text/plain": [
              "<bound method DataFrame.info of     Day  WakeUp HaveTalk Weather GoToSchool\n",
              "0    D1  Normal       No   Sunny         No\n",
              "1    D2  Normal       No    Rain         No\n",
              "2    D3   Early       No   Sunny        Yes\n",
              "3    D4    Late       No   Sunny        Yes\n",
              "4    D5    Late      Yes   Sunny        Yes\n",
              "5    D6    Late      Yes    Rain         No\n",
              "6    D7   Early      Yes    Rain        Yes\n",
              "7    D8  Normal       No   Sunny         No\n",
              "8    D9  Normal      Yes   Sunny        Yes\n",
              "9   D10    Late      Yes   Sunny        Yes\n",
              "10  D11  Normal      Yes    Rain        Yes\n",
              "11  D12   Early       No    Rain        Yes\n",
              "12  D13   Early      Yes   Sunny        Yes>"
            ]
          },
          "metadata": {},
          "execution_count": 11
        }
      ]
    },
    {
      "cell_type": "code",
      "source": [
        "from sklearn.preprocessing import LabelEncoder\n",
        "lblencoder =LabelEncoder()\n",
        "encoded_df=df.apply(lblencoder.fit_transform)\n",
        "print(encoded_df)"
      ],
      "metadata": {
        "colab": {
          "base_uri": "https://localhost:8080/"
        },
        "id": "X7DQr6gEGp2r",
        "outputId": "2a44a1af-4df3-43a2-ed34-64bc80711f83"
      },
      "execution_count": 22,
      "outputs": [
        {
          "output_type": "stream",
          "name": "stdout",
          "text": [
            "    Day  WakeUp  HaveTalk  Weather  GoToSchool\n",
            "0     0       2         0        1           0\n",
            "1     5       2         0        0           0\n",
            "2     6       0         0        1           1\n",
            "3     7       1         0        1           1\n",
            "4     8       1         1        1           1\n",
            "5     9       1         1        0           0\n",
            "6    10       0         1        0           1\n",
            "7    11       2         0        1           0\n",
            "8    12       2         1        1           1\n",
            "9     1       1         1        1           1\n",
            "10    2       2         1        0           1\n",
            "11    3       0         0        0           1\n",
            "12    4       0         1        1           1\n"
          ]
        }
      ]
    },
    {
      "cell_type": "code",
      "source": [
        "from sklearn.model_selection import train_test_split\n",
        "predictor=encoded_df.iloc[:,0:4]\n",
        "target=encoded_df.iloc[:,4]\n",
        "train_X, test_X, train_y, test_y=train_test_split(predictor, target, test_size=0.1, random_state=0)"
      ],
      "metadata": {
        "id": "L2YWuk5WGp55"
      },
      "execution_count": 23,
      "outputs": []
    },
    {
      "cell_type": "code",
      "source": [
        "from sklearn.tree import DecisionTreeClassifier\n",
        "DT_Classifier=DecisionTreeClassifier(criterion=\n",
        "'entropy'\n",
        ",random_state=0, max_depth=6,\n",
        "min_samples_leaf=1)\n",
        "DT_Classifier.fit(train_X, train_y)\n",
        "print(\"Test set prediction: {}\".format(DT_Classifier.predict(test_X)))"
      ],
      "metadata": {
        "colab": {
          "base_uri": "https://localhost:8080/"
        },
        "id": "ZHs6dAyvGp8l",
        "outputId": "fd43c96e-551f-4d1f-c174-9654aba01de0"
      },
      "execution_count": 24,
      "outputs": [
        {
          "output_type": "stream",
          "name": "stdout",
          "text": [
            "Test set prediction: [0 1]\n"
          ]
        }
      ]
    },
    {
      "cell_type": "code",
      "source": [
        "from sklearn.metrics import accuracy_score, confusion_matrix\n",
        "accuracy=DT_Classifier.score(test_X, test_y)\n",
        "print(accuracy)"
      ],
      "metadata": {
        "colab": {
          "base_uri": "https://localhost:8080/"
        },
        "id": "o6M_fLwvGp-F",
        "outputId": "229b80a0-9d72-45df-9a15-f6362ea57cec"
      },
      "execution_count": 25,
      "outputs": [
        {
          "output_type": "stream",
          "name": "stdout",
          "text": [
            "0.5\n"
          ]
        }
      ]
    },
    {
      "cell_type": "code",
      "source": [
        "prediction=DT_Classifier.predict(test_X)\n",
        "cnf_score=confusion_matrix(test_y, prediction)\n",
        "print(cnf_score)"
      ],
      "metadata": {
        "colab": {
          "base_uri": "https://localhost:8080/"
        },
        "id": "DE_qR6uqGqAM",
        "outputId": "e30408bf-98ce-4cca-9f9d-6661d739c442"
      },
      "execution_count": 26,
      "outputs": [
        {
          "output_type": "stream",
          "name": "stdout",
          "text": [
            "[[0 0]\n",
            " [1 1]]\n"
          ]
        }
      ]
    },
    {
      "cell_type": "markdown",
      "source": [
        "A_51_Pratyush Ranjan"
      ],
      "metadata": {
        "id": "HawUSVMfJhO2"
      }
    }
  ]
}